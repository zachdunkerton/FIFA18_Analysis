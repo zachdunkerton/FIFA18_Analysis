{
 "cells": [
  {
   "cell_type": "markdown",
   "metadata": {},
   "source": [
    "# FIFA 18 Position Classification "
   ]
  },
  {
   "cell_type": "markdown",
   "metadata": {},
   "source": [
    "The following is a few different approaches to classifying player position based on in game stats. \n",
    "\n",
    "### Positions\n",
    "Many positions are very similar in terms of stats. For example, there is really nothing separating a left back from a right back, or a striker from a center forward. So that the model wouldn't get bogged down in this, I grouped postitions in the following ways\n",
    "> + ST,CF = st (striker)\n",
    "> + CAM,CM,CDM = mid (midfielder)\n",
    "> + LM,RM,LW,RW = win (winger)\n",
    "> + LB,RB = wb (wing-back)\n",
    "> + CB = cb (center-back)\n",
    "\n",
    "Goalkeepers were removed\n",
    "### Models\n",
    "The two models used are a Random Forest classifier, and a KNN classifier. The features are the players in game stats. Only normal cards were used (no in-forms, MOTM, TOTY etc). A gridsearch was run on a decision tree in order to gauge what type of tree the Random Forest should use. \n",
    "### Similar Player Prediction\n",
    "A welcome surprise that came out of the KNN classifier was a similar player predictor. The model simply outputs the names of the k nearest players after the model is trained (I know crazy right). It gives some interesting results, as players with similar stats are used vastly different amounts.  "
   ]
  },
  {
   "cell_type": "code",
   "execution_count": 1,
   "metadata": {},
   "outputs": [],
   "source": [
    "import pandas as pd\n",
    "import numpy as np\n",
    "from sklearn.model_selection import GridSearchCV\n",
    "from sklearn.model_selection import train_test_split\n",
    "from sklearn.metrics import classification_report, accuracy_score, confusion_matrix"
   ]
  },
  {
   "cell_type": "markdown",
   "metadata": {},
   "source": [
    "Read in the data. Rename the age column to position. We need a column for the new position label, and we'll never use that column"
   ]
  },
  {
   "cell_type": "code",
   "execution_count": 106,
   "metadata": {},
   "outputs": [],
   "source": [
    "fifa = pd.read_csv(\"./complete.csv\")\n",
    "#fifa = pd.read_csv(\"../input/complete.csv\")\n",
    "fifa = fifa.rename(columns={'age': 'position'})"
   ]
  },
  {
   "cell_type": "markdown",
   "metadata": {},
   "source": [
    "For each prefered position, mark the position column with the appropriate label. This step removes goalkeepers."
   ]
  },
  {
   "cell_type": "code",
   "execution_count": 107,
   "metadata": {},
   "outputs": [],
   "source": [
    "cb = pd.DataFrame(fifa.loc[(fifa[\"prefers_cb\"]==True)])\n",
    "cb['position'] = 0\n",
    "\n",
    "wb = pd.DataFrame(fifa.loc[(fifa[\"prefers_rb\"]==True)|(fifa[\"prefers_lb\"]==True)|(fifa[\"prefers_rwb\"]==True)|(fifa[\"prefers_lwb\"]==True)])\n",
    "wb['position'] = 1\n",
    "\n",
    "mid = pd.DataFrame(fifa.loc[(fifa[\"prefers_cdm\"]==True)|(fifa[\"prefers_cm\"]==True)|(fifa[\"prefers_cam\"]==True)])\n",
    "mid['position'] = 2\n",
    "\n",
    "wingers = pd.DataFrame(fifa.loc[(fifa[\"prefers_lm\"]==True)|(fifa[\"prefers_rm\"]==True)|(fifa[\"prefers_lw\"]==True)|(fifa[\"prefers_rw\"]==True)])\n",
    "wingers['position'] = 3\n",
    "\n",
    "st = pd.DataFrame(fifa.loc[(fifa[\"prefers_st\"]==True)|(fifa[\"prefers_cf\"]==True)])\n",
    "st['position'] = 4"
   ]
  },
  {
   "cell_type": "markdown",
   "metadata": {},
   "source": [
    "Concatinate these results, sort and drop duplicates (some players have more than one prefered position). Finally, select the columns that are relevant for our analysis. "
   ]
  },
  {
   "cell_type": "code",
   "execution_count": 134,
   "metadata": {},
   "outputs": [],
   "source": [
    "data = [cb,wb,st,mid, wingers]\n",
    "result = pd.concat(data)\n",
    "result = result.sort_values('overall', ascending=False)\n",
    "result = result.drop_duplicates('name')\n",
    "fifa = result.loc[:,[\"name\",\"club_logo\",\"flag\",\"photo\" ,\"acceleration\",\n",
    "                       \"sprint_speed\", \"positioning\",\"finishing\",\"shot_power\",\n",
    "                       \"long_shots\",\"volleys\",\"penalties\",\"vision\",\"crossing\",\n",
    "                       \"free_kick_accuracy\",\"short_passing\",\"long_passing\",\"curve\",\n",
    "                       \"agility\",\"balance\",\"reactions\",\"ball_control\",\"dribbling\",\n",
    "                       \"composure\",\"interceptions\",\"heading_accuracy\",\"marking\",\n",
    "                       \"standing_tackle\",\"sliding_tackle\",\"jumping\",\"stamina\",\n",
    "                       \"strength\",\"aggression\", \"position\"]]"
   ]
  },
  {
   "cell_type": "code",
   "execution_count": 135,
   "metadata": {},
   "outputs": [],
   "source": [
    "data = fifa.iloc[:, 4:33]\n",
    "labels = fifa[\"position\"]"
   ]
  },
  {
   "cell_type": "markdown",
   "metadata": {},
   "source": [
    "This use grid search to find optimal parameters"
   ]
  },
  {
   "cell_type": "code",
   "execution_count": 5,
   "metadata": {},
   "outputs": [
    {
     "name": "stdout",
     "output_type": "stream",
     "text": [
      "{'criterion': 'entropy', 'max_depth': 20, 'min_samples_leaf': 5, 'min_samples_split': 2}\n",
      "0.7236390063424947\n"
     ]
    }
   ],
   "source": [
    "from sklearn.ensemble import RandomForestClassifier\n",
    "\n",
    "parameters = {'criterion':['gini','entropy'], 'max_depth':[3,7,12,20,50], 'min_samples_split':[2,5,10,20], 'min_samples_leaf':[1,3,5,10,20]}\n",
    "dt_clf=GridSearchCV(RandomForestClassifier(n_estimators = 50), parameters)\n",
    "dt_clf.fit(data,labels)\n",
    "\n",
    "print(dt_clf.best_params_)\n",
    "print(dt_clf.best_score_)"
   ]
  },
  {
   "cell_type": "code",
   "execution_count": 136,
   "metadata": {},
   "outputs": [
    {
     "name": "stdout",
     "output_type": "stream",
     "text": [
      "0.7767011671438009\n",
      "             precision    recall  f1-score   support\n",
      "\n",
      "         cb       0.82      0.84      0.83       802\n",
      "         wb       0.77      0.78      0.78       803\n",
      "        mid       0.78      0.78      0.78      1362\n",
      "       wing       0.68      0.63      0.66       843\n",
      "         st       0.83      0.86      0.85       731\n",
      "\n",
      "avg / total       0.77      0.78      0.78      4541\n",
      "\n"
     ]
    }
   ],
   "source": [
    "features_train, features_test, labels_train, labels_test = train_test_split(data, labels, test_size=0.3, random_state=42)\n",
    "from sklearn.metrics import accuracy_score, classification_report\n",
    "\n",
    "from sklearn.ensemble import RandomForestClassifier\n",
    "rnd_clf = RandomForestClassifier(n_estimators = 500,criterion = 'entropy', min_samples_split = 2,min_samples_leaf = 5, max_depth=20)\n",
    "rnd_clf.fit(features_train, labels_train)\n",
    "pred = rnd_clf.predict(features_test)\n",
    "print(accuracy_score(labels_test,pred))\n",
    "target_names = ['cb', 'wb', 'mid','wing','st']\n",
    "print(classification_report(labels_test,pred, target_names = target_names))"
   ]
  },
  {
   "cell_type": "markdown",
   "metadata": {},
   "source": [
    "## Analysis\n",
    "The cb and st positions yield the best results. This is not unexpected, because they tend to have diffrent stats than other positions. Wing backs and wingers can have similar stats, and midfielders cover the whole spectrum, so it is not suprising that their scores were worse. Wingers in particular are hard to classify because some are very similar to midfielders, and others are very similar to attackers. Overall the baseline is 20% for random guessing, the the model performs decently well. "
   ]
  },
  {
   "cell_type": "markdown",
   "metadata": {},
   "source": [
    "Creates colors from the feature weights. Sclae them between 0-1, multiply by a number to change the color, add to an array."
   ]
  },
  {
   "cell_type": "code",
   "execution_count": 137,
   "metadata": {},
   "outputs": [],
   "source": [
    "from sklearn.preprocessing import MinMaxScaler\n",
    "scaler = MinMaxScaler(feature_range=(.5, 1))\n",
    "\n",
    "features = scaler.fit_transform(rnd_clf.feature_importances_.reshape(-1,1))\n",
    "i = 0\n",
    "color_list = []\n",
    "while i<len(features):\n",
    "    #pace colors\n",
    "    if i<2:\n",
    "        arr = (features[i],features[i]*0,features[i]*.4)\n",
    "        color_list.append(arr)\n",
    "    #shooting colors\n",
    "    elif i<8:\n",
    "        arr = (features[i],features[i],features[i]*0)\n",
    "        color_list.append(arr)\n",
    "    #passing colors\n",
    "    elif i<14:\n",
    "        arr = (features[i]*.1,features[i],features[i])\n",
    "        color_list.append(arr)\n",
    "    #dribbling colors\n",
    "    elif i<20:\n",
    "        arr = (features[i]*.5,features[i]*0,features[i])\n",
    "        color_list.append(arr)\n",
    "    #defending colors\n",
    "    elif i<25:\n",
    "        arr = (features[i],features[i]*.3,features[i]*.0)\n",
    "        color_list.append(arr)\n",
    "    #physical colors\n",
    "    elif i<29:\n",
    "        arr = (features[i]*0,features[i]*.8,features[i]*0)\n",
    "        color_list.append(arr)\n",
    "    i+=1\n",
    "color_list = np.array(color_list)\n",
    "color_list =color_list.reshape(len(rnd_clf.feature_importances_),3) "
   ]
  },
  {
   "cell_type": "markdown",
   "metadata": {},
   "source": [
    "### Feature Significance\n",
    "The following code prints out a graph of the feature importances of the tree. Most of the top features are definsive stats. This makes sense, because Defenders and wing backs have much higher defending on average than every other position, so it is an easy way to distinguish between positions. Reactions, composure and stamina on the other hand, are distributed fairly evenly accross all positions and therefore are not good for classifying player. Ball control and reactions are important for overall rating however. Please see the rating kernel for more info on that. \n",
    "\n",
    "The different colors represent the different stat groups (pace, shooting, passing, dribbling, defending and physical), and the lighter the color the higher the significance. "
   ]
  },
  {
   "cell_type": "code",
   "execution_count": 138,
   "metadata": {},
   "outputs": [
    {
     "data": {
      "image/png": "[encoded data removed]",
      "text/plain": [
       "<matplotlib.figure.Figure at 0xefee02fa20>"
      ]
     },
     "metadata": {},
     "output_type": "display_data"
    }
   ],
   "source": [
    "%matplotlib inline\n",
    "import matplotlib\n",
    "import matplotlib.pyplot as plt \n",
    "\n",
    "width = 0.5\n",
    "graph_labels = data.columns.values\n",
    "\n",
    "fig, ax = plt.subplots(figsize=(20, 10))\n",
    "\n",
    "ind = np.arange(len(graph_labels))\n",
    "test = ax.bar(ind, rnd_clf.feature_importances_, width, align='center', alpha=0.5, color = color_list)\n",
    "ax.set_xticks(ind)\n",
    "ax.set_xticklabels(graph_labels,rotation=90, fontsize=15)\n",
    "ax.set_ylabel('Importance',fontsize=20)\n",
    "ax.set_title('Importance of ingame stats in position classification',fontsize=20)\n",
    "plt.show()"
   ]
  },
  {
   "cell_type": "markdown",
   "metadata": {},
   "source": [
    "# KNN"
   ]
  },
  {
   "cell_type": "code",
   "execution_count": 139,
   "metadata": {},
   "outputs": [],
   "source": [
    "from sklearn.neighbors import KNeighborsClassifier"
   ]
  },
  {
   "cell_type": "code",
   "execution_count": 140,
   "metadata": {},
   "outputs": [
    {
     "name": "stdout",
     "output_type": "stream",
     "text": [
      "{'n_neighbors': 30, 'weights': 'distance'}\n",
      "0.7165036997885835\n"
     ]
    }
   ],
   "source": [
    "parameters = {'n_neighbors':[10, 20, 30, 40, 50, 60, 70,80,90], 'weights':['uniform','distance']}\n",
    "knn_clf=GridSearchCV(KNeighborsClassifier(), parameters)\n",
    "knn_clf.fit(data, labels)\n",
    "print(knn_clf.best_params_)\n",
    "print(knn_clf.best_score_)"
   ]
  },
  {
   "cell_type": "code",
   "execution_count": 141,
   "metadata": {},
   "outputs": [
    {
     "name": "stdout",
     "output_type": "stream",
     "text": [
      "0.7623871393966086\n",
      "             precision    recall  f1-score   support\n",
      "\n",
      "          0       0.84      0.83      0.83       802\n",
      "          1       0.77      0.78      0.77       803\n",
      "          2       0.75      0.76      0.75      1362\n",
      "          3       0.64      0.62      0.63       843\n",
      "          4       0.83      0.85      0.84       731\n",
      "\n",
      "avg / total       0.76      0.76      0.76      4541\n",
      "\n"
     ]
    }
   ],
   "source": [
    "features_train, features_test, labels_train, labels_test = train_test_split(data, labels, test_size=0.3, random_state=42)\n",
    "\n",
    "knn_clf=KNeighborsClassifier(n_neighbors=30, weights ='distance')\n",
    "knn_clf.fit(features_train, labels_train)\n",
    "pred = knn_clf.predict(features_test)\n",
    "print(accuracy_score(labels_test,pred))\n",
    "print(classification_report(labels_test,pred))"
   ]
  },
  {
   "cell_type": "markdown",
   "metadata": {},
   "source": [
    "### Nearest Neighbors\n",
    "This simply prints out the names of the most closely related players according to the algorithm. Look up the player in the excel sheet, and plug in their index. The algorithm does need to be retrained on all the data so it has all the data points.  "
   ]
  },
  {
   "cell_type": "code",
   "execution_count": 142,
   "metadata": {},
   "outputs": [
    {
     "data": {
      "text/plain": [
       "KNeighborsClassifier(algorithm='auto', leaf_size=30, metric='minkowski',\n",
       "           metric_params=None, n_jobs=1, n_neighbors=30, p=2,\n",
       "           weights='distance')"
      ]
     },
     "execution_count": 142,
     "metadata": {},
     "output_type": "execute_result"
    }
   ],
   "source": [
    "knn_clf_2=KNeighborsClassifier(n_neighbors=30, weights ='distance')\n",
    "knn_clf_2.fit(data, labels)"
   ]
  },
  {
   "cell_type": "code",
   "execution_count": 146,
   "metadata": {},
   "outputs": [
    {
     "data": {
      "text/html": [
       "<table><tr><td><b>['G. Sigurðsson']</b></td><td><img src=https://cdn.sofifa.org/18/players/184484.png></td><td><img src=https://cdn.sofifa.org/18/teams/7.png></td><td><img src=https://cdn.sofifa.org/flags/24@3x.png></td></tr></table>"
      ],
      "text/plain": [
       "<IPython.core.display.HTML object>"
      ]
     },
     "metadata": {},
     "output_type": "display_data"
    },
    {
     "name": "stdout",
     "output_type": "stream",
     "text": [
      "--------------Neighbors--------------\n"
     ]
    },
    {
     "data": {
      "text/html": [
       "<table><tr><td><b>['Cesc Fàbregas']</b></td><td><img src=https://cdn.sofifa.org/18/players/162895.png></td><td><img src=https://cdn.sofifa.org/18/teams/5.png></td><td><img src=https://cdn.sofifa.org/flags/45@3x.png></td></tr></table>"
      ],
      "text/plain": [
       "<IPython.core.display.HTML object>"
      ]
     },
     "metadata": {},
     "output_type": "display_data"
    },
    {
     "data": {
      "text/html": [
       "<table><tr><td><b>['V. Birsa']</b></td><td><img src=https://cdn.sofifa.org/18/players/176104.png></td><td><img src=https://cdn.sofifa.org/18/teams/192.png></td><td><img src=https://cdn.sofifa.org/flags/44@3x.png></td></tr></table>"
      ],
      "text/plain": [
       "<IPython.core.display.HTML object>"
      ]
     },
     "metadata": {},
     "output_type": "display_data"
    },
    {
     "data": {
      "text/html": [
       "<table><tr><td><b>['A. Samedov']</b></td><td><img src=https://cdn.sofifa.org/18/players/147621.png></td><td><img src=https://cdn.sofifa.org/18/teams/100767.png></td><td><img src=https://cdn.sofifa.org/flags/40@3x.png></td></tr></table>"
      ],
      "text/plain": [
       "<IPython.core.display.HTML object>"
      ]
     },
     "metadata": {},
     "output_type": "display_data"
    },
    {
     "data": {
      "text/html": [
       "<table><tr><td><b>['R. Malinovskyi']</b></td><td><img src=https://cdn.sofifa.org/18/players/231969.png></td><td><img src=https://cdn.sofifa.org/18/teams/673.png></td><td><img src=https://cdn.sofifa.org/flags/49@3x.png></td></tr></table>"
      ],
      "text/plain": [
       "<IPython.core.display.HTML object>"
      ]
     },
     "metadata": {},
     "output_type": "display_data"
    }
   ],
   "source": [
    "from IPython.display import HTML, display\n",
    "\n",
    "player_index = 212\n",
    "table = \"<table><tr><td><b>{}</b></td><td><img src={}></td><td><img src={}></td><td><img src={}></td></tr></table>\"\n",
    "\n",
    "neighbors = knn_clf_2.kneighbors([data.iloc[player_index,:]],n_neighbors=5)[1]\n",
    "neighbors = np.reshape(neighbors,(neighbors.shape[1]))\n",
    "display(HTML(table.format(fifa.iloc[player_index,[0]].values,fifa.iloc[player_index,3],\n",
    "                          fifa.iloc[player_index,1],fifa.iloc[player_index,2])))\n",
    "print(\"--------------Neighbors--------------\")\n",
    "\n",
    "i = 1\n",
    "while i<len(neighbors):\n",
    "    display(HTML(table.format(fifa.iloc[neighbors[i],[0]].values,fifa.iloc[neighbors[i],3],\n",
    "                              fifa.iloc[neighbors[i],1],fifa.iloc[neighbors[i],2])))\n",
    "    i+=1"
   ]
  },
  {
   "cell_type": "code",
   "execution_count": null,
   "metadata": {},
   "outputs": [],
   "source": []
  }
 ],
 "metadata": {
  "kernelspec": {
   "display_name": "Python 3",
   "language": "python",
   "name": "python3"
  },
  "language_info": {
   "codemirror_mode": {
    "name": "ipython",
    "version": 3
   },
   "file_extension": ".py",
   "mimetype": "text/x-python",
   "name": "python",
   "nbconvert_exporter": "python",
   "pygments_lexer": "ipython3",
   "version": "3.6.3"
  }
 },
 "nbformat": 4,
 "nbformat_minor": 2
}
